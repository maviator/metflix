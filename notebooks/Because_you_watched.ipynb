{
 "cells": [
  {
   "cell_type": "markdown",
   "metadata": {},
   "source": [
    "## What to do?\n",
    "\n",
    "- <s>Recommend movies to users based on implicit recommend function</s>\n",
    "- <s>Because you've watched feature</s>\n",
    "- <s>Trending Movies</s>\n",
    "- <s>Export model and data for production</s>"
   ]
  },
  {
   "cell_type": "code",
   "execution_count": 1,
   "metadata": {},
   "outputs": [],
   "source": [
    "import numpy as np\n",
    "import pandas as pd\n",
    "import matplotlib.pyplot as plt\n",
    "\n",
    "import implicit\n",
    "import random\n",
    "\n",
    "import scipy.sparse as sparse\n",
    "\n",
    "%matplotlib inline"
   ]
  },
  {
   "cell_type": "code",
   "execution_count": 2,
   "metadata": {},
   "outputs": [],
   "source": [
    "ratings = pd.read_csv(\"data/ml-latest-small/ratings.csv\")"
   ]
  },
  {
   "cell_type": "code",
   "execution_count": 3,
   "metadata": {},
   "outputs": [
    {
     "name": "stdout",
     "output_type": "stream",
     "text": [
      "98.3560858391\n"
     ]
    },
    {
     "name": "stderr",
     "output_type": "stream",
     "text": [
      "/home/maviator/anaconda2/lib/python2.7/site-packages/ipykernel_launcher.py:7: FutureWarning: specifying 'categories' or 'ordered' in .astype() is deprecated; pass a CategoricalDtype instead\n",
      "  import sys\n",
      "/home/maviator/anaconda2/lib/python2.7/site-packages/ipykernel_launcher.py:9: FutureWarning: specifying 'categories' or 'ordered' in .astype() is deprecated; pass a CategoricalDtype instead\n",
      "  if __name__ == '__main__':\n"
     ]
    },
    {
     "data": {
      "text/plain": [
       "<671x9066 sparse matrix of type '<type 'numpy.float64'>'\n",
       "\twith 100004 stored elements in Compressed Sparse Row format>"
      ]
     },
     "execution_count": 3,
     "metadata": {},
     "output_type": "execute_result"
    }
   ],
   "source": [
    "ratings = ratings[[\"userId\", \"movieId\", \"rating\"]]\n",
    "\n",
    "users = list(np.sort(ratings.userId.unique())) # Get our unique customers\n",
    "movies = list(ratings.movieId.unique()) # Get our unique products that were purchased\n",
    "rating = list(ratings.rating) # All of our purchases\n",
    "\n",
    "rows = ratings.userId.astype('category', categories = users).cat.codes \n",
    "# Get the associated row indices\n",
    "cols = ratings.movieId.astype('category', categories = movies).cat.codes \n",
    "# Get the associated column indices\n",
    "user_item = sparse.csr_matrix((rating, (rows, cols)), shape=(len(users), len(movies)))\n",
    "\n",
    "matrix_size = user_item.shape[0]*user_item.shape[1] # Number of possible interactions in the matrix\n",
    "num_purchases = len(user_item.nonzero()[0]) # Number of items interacted with\n",
    "sparsity = 100*(1 - (1.0*num_purchases/matrix_size))\n",
    "print (sparsity)\n",
    "\n",
    "user_item"
   ]
  },
  {
   "cell_type": "markdown",
   "metadata": {},
   "source": [
    "## Recommending Movies to users"
   ]
  },
  {
   "cell_type": "code",
   "execution_count": 4,
   "metadata": {},
   "outputs": [],
   "source": [
    "model = implicit.als.AlternatingLeastSquares(factors=10, \n",
    "                                             iterations=20, \n",
    "                                             regularization=0.1, \n",
    "                                             num_threads=4)\n",
    "model.fit(user_item.T)"
   ]
  },
  {
   "cell_type": "markdown",
   "metadata": {},
   "source": [
    "First let's write a function that returns the movies that a particular user had rated"
   ]
  },
  {
   "cell_type": "code",
   "execution_count": 5,
   "metadata": {},
   "outputs": [],
   "source": [
    "def get_rated_movies_ids(user_id, user_item, users, movies):\n",
    "    \"\"\"\n",
    "    Input\n",
    "    -----\n",
    "    \n",
    "    user_id: int\n",
    "        User ID\n",
    "        \n",
    "    user_item: scipy.Sparse Matrix\n",
    "        User item interaction matrix\n",
    "        \n",
    "    users: np.array\n",
    "        Mapping array between user ID and index in the user item matrix\n",
    "        \n",
    "    movies: np.array\n",
    "        Mapping array between movie ID and index in the user item matrix\n",
    "        \n",
    "    Output\n",
    "    -----\n",
    "    \n",
    "    movieTableIDs: python list\n",
    "        List of movie IDs that the user had rated\n",
    "    \n",
    "    \"\"\"\n",
    "    user_id = users.index(user_id)\n",
    "    # Get matrix ids of rated movies by selected user\n",
    "    ids = user_item[user_id].nonzero()[1]\n",
    "    # Convert matrix ids to movies IDs\n",
    "    movieTableIDs = [movies[item] for item in ids]\n",
    "    \n",
    "    return movieTableIDs"
   ]
  },
  {
   "cell_type": "code",
   "execution_count": 6,
   "metadata": {},
   "outputs": [],
   "source": [
    "movieTableIDs = get_rated_movies_ids(1, user_item, users, movies)"
   ]
  },
  {
   "cell_type": "code",
   "execution_count": 7,
   "metadata": {},
   "outputs": [
    {
     "data": {
      "text/html": [
       "<div>\n",
       "<style scoped>\n",
       "    .dataframe tbody tr th:only-of-type {\n",
       "        vertical-align: middle;\n",
       "    }\n",
       "\n",
       "    .dataframe tbody tr th {\n",
       "        vertical-align: top;\n",
       "    }\n",
       "\n",
       "    .dataframe thead th {\n",
       "        text-align: right;\n",
       "    }\n",
       "</style>\n",
       "<table border=\"1\" class=\"dataframe\">\n",
       "  <thead>\n",
       "    <tr style=\"text-align: right;\">\n",
       "      <th></th>\n",
       "      <th>movieId</th>\n",
       "    </tr>\n",
       "  </thead>\n",
       "  <tbody>\n",
       "    <tr>\n",
       "      <th>0</th>\n",
       "      <td>31</td>\n",
       "    </tr>\n",
       "    <tr>\n",
       "      <th>1</th>\n",
       "      <td>1029</td>\n",
       "    </tr>\n",
       "    <tr>\n",
       "      <th>2</th>\n",
       "      <td>1061</td>\n",
       "    </tr>\n",
       "    <tr>\n",
       "      <th>3</th>\n",
       "      <td>1129</td>\n",
       "    </tr>\n",
       "    <tr>\n",
       "      <th>4</th>\n",
       "      <td>1172</td>\n",
       "    </tr>\n",
       "    <tr>\n",
       "      <th>5</th>\n",
       "      <td>1263</td>\n",
       "    </tr>\n",
       "    <tr>\n",
       "      <th>6</th>\n",
       "      <td>1287</td>\n",
       "    </tr>\n",
       "    <tr>\n",
       "      <th>7</th>\n",
       "      <td>1293</td>\n",
       "    </tr>\n",
       "    <tr>\n",
       "      <th>8</th>\n",
       "      <td>1339</td>\n",
       "    </tr>\n",
       "    <tr>\n",
       "      <th>9</th>\n",
       "      <td>1343</td>\n",
       "    </tr>\n",
       "    <tr>\n",
       "      <th>10</th>\n",
       "      <td>1371</td>\n",
       "    </tr>\n",
       "    <tr>\n",
       "      <th>11</th>\n",
       "      <td>1405</td>\n",
       "    </tr>\n",
       "    <tr>\n",
       "      <th>12</th>\n",
       "      <td>1953</td>\n",
       "    </tr>\n",
       "    <tr>\n",
       "      <th>13</th>\n",
       "      <td>2105</td>\n",
       "    </tr>\n",
       "    <tr>\n",
       "      <th>14</th>\n",
       "      <td>2150</td>\n",
       "    </tr>\n",
       "    <tr>\n",
       "      <th>15</th>\n",
       "      <td>2193</td>\n",
       "    </tr>\n",
       "    <tr>\n",
       "      <th>16</th>\n",
       "      <td>2294</td>\n",
       "    </tr>\n",
       "    <tr>\n",
       "      <th>17</th>\n",
       "      <td>2455</td>\n",
       "    </tr>\n",
       "    <tr>\n",
       "      <th>18</th>\n",
       "      <td>2968</td>\n",
       "    </tr>\n",
       "    <tr>\n",
       "      <th>19</th>\n",
       "      <td>3671</td>\n",
       "    </tr>\n",
       "  </tbody>\n",
       "</table>\n",
       "</div>"
      ],
      "text/plain": [
       "    movieId\n",
       "0        31\n",
       "1      1029\n",
       "2      1061\n",
       "3      1129\n",
       "4      1172\n",
       "5      1263\n",
       "6      1287\n",
       "7      1293\n",
       "8      1339\n",
       "9      1343\n",
       "10     1371\n",
       "11     1405\n",
       "12     1953\n",
       "13     2105\n",
       "14     2150\n",
       "15     2193\n",
       "16     2294\n",
       "17     2455\n",
       "18     2968\n",
       "19     3671"
      ]
     },
     "execution_count": 7,
     "metadata": {},
     "output_type": "execute_result"
    }
   ],
   "source": [
    "rated_movies = pd.DataFrame(movieTableIDs, columns=['movieId'])\n",
    "rated_movies"
   ]
  },
  {
   "cell_type": "code",
   "execution_count": 8,
   "metadata": {},
   "outputs": [
    {
     "data": {
      "text/html": [
       "<div>\n",
       "<style scoped>\n",
       "    .dataframe tbody tr th:only-of-type {\n",
       "        vertical-align: middle;\n",
       "    }\n",
       "\n",
       "    .dataframe tbody tr th {\n",
       "        vertical-align: top;\n",
       "    }\n",
       "\n",
       "    .dataframe thead th {\n",
       "        text-align: right;\n",
       "    }\n",
       "</style>\n",
       "<table border=\"1\" class=\"dataframe\">\n",
       "  <thead>\n",
       "    <tr style=\"text-align: right;\">\n",
       "      <th></th>\n",
       "      <th>movieId</th>\n",
       "      <th>title</th>\n",
       "      <th>genres</th>\n",
       "    </tr>\n",
       "  </thead>\n",
       "  <tbody>\n",
       "    <tr>\n",
       "      <th>0</th>\n",
       "      <td>1</td>\n",
       "      <td>Toy Story (1995)</td>\n",
       "      <td>Adventure|Animation|Children|Comedy|Fantasy</td>\n",
       "    </tr>\n",
       "    <tr>\n",
       "      <th>1</th>\n",
       "      <td>2</td>\n",
       "      <td>Jumanji (1995)</td>\n",
       "      <td>Adventure|Children|Fantasy</td>\n",
       "    </tr>\n",
       "    <tr>\n",
       "      <th>2</th>\n",
       "      <td>3</td>\n",
       "      <td>Grumpier Old Men (1995)</td>\n",
       "      <td>Comedy|Romance</td>\n",
       "    </tr>\n",
       "    <tr>\n",
       "      <th>3</th>\n",
       "      <td>4</td>\n",
       "      <td>Waiting to Exhale (1995)</td>\n",
       "      <td>Comedy|Drama|Romance</td>\n",
       "    </tr>\n",
       "    <tr>\n",
       "      <th>4</th>\n",
       "      <td>5</td>\n",
       "      <td>Father of the Bride Part II (1995)</td>\n",
       "      <td>Comedy</td>\n",
       "    </tr>\n",
       "  </tbody>\n",
       "</table>\n",
       "</div>"
      ],
      "text/plain": [
       "   movieId                               title  \\\n",
       "0        1                    Toy Story (1995)   \n",
       "1        2                      Jumanji (1995)   \n",
       "2        3             Grumpier Old Men (1995)   \n",
       "3        4            Waiting to Exhale (1995)   \n",
       "4        5  Father of the Bride Part II (1995)   \n",
       "\n",
       "                                        genres  \n",
       "0  Adventure|Animation|Children|Comedy|Fantasy  \n",
       "1                   Adventure|Children|Fantasy  \n",
       "2                               Comedy|Romance  \n",
       "3                         Comedy|Drama|Romance  \n",
       "4                                       Comedy  "
      ]
     },
     "execution_count": 8,
     "metadata": {},
     "output_type": "execute_result"
    }
   ],
   "source": [
    "movies_table = pd.read_csv(\"data/ml-latest-small/movies.csv\")\n",
    "movies_table.head()"
   ]
  },
  {
   "cell_type": "code",
   "execution_count": 9,
   "metadata": {},
   "outputs": [
    {
     "data": {
      "text/html": [
       "<div>\n",
       "<style scoped>\n",
       "    .dataframe tbody tr th:only-of-type {\n",
       "        vertical-align: middle;\n",
       "    }\n",
       "\n",
       "    .dataframe tbody tr th {\n",
       "        vertical-align: top;\n",
       "    }\n",
       "\n",
       "    .dataframe thead th {\n",
       "        text-align: right;\n",
       "    }\n",
       "</style>\n",
       "<table border=\"1\" class=\"dataframe\">\n",
       "  <thead>\n",
       "    <tr style=\"text-align: right;\">\n",
       "      <th></th>\n",
       "      <th>movieId</th>\n",
       "      <th>title</th>\n",
       "      <th>genres</th>\n",
       "    </tr>\n",
       "  </thead>\n",
       "  <tbody>\n",
       "    <tr>\n",
       "      <th>0</th>\n",
       "      <td>31</td>\n",
       "      <td>Dangerous Minds (1995)</td>\n",
       "      <td>Drama</td>\n",
       "    </tr>\n",
       "    <tr>\n",
       "      <th>1</th>\n",
       "      <td>1029</td>\n",
       "      <td>Dumbo (1941)</td>\n",
       "      <td>Animation|Children|Drama|Musical</td>\n",
       "    </tr>\n",
       "    <tr>\n",
       "      <th>2</th>\n",
       "      <td>1061</td>\n",
       "      <td>Sleepers (1996)</td>\n",
       "      <td>Thriller</td>\n",
       "    </tr>\n",
       "    <tr>\n",
       "      <th>3</th>\n",
       "      <td>1129</td>\n",
       "      <td>Escape from New York (1981)</td>\n",
       "      <td>Action|Adventure|Sci-Fi|Thriller</td>\n",
       "    </tr>\n",
       "    <tr>\n",
       "      <th>4</th>\n",
       "      <td>1172</td>\n",
       "      <td>Cinema Paradiso (Nuovo cinema Paradiso) (1989)</td>\n",
       "      <td>Drama</td>\n",
       "    </tr>\n",
       "    <tr>\n",
       "      <th>5</th>\n",
       "      <td>1263</td>\n",
       "      <td>Deer Hunter, The (1978)</td>\n",
       "      <td>Drama|War</td>\n",
       "    </tr>\n",
       "    <tr>\n",
       "      <th>6</th>\n",
       "      <td>1287</td>\n",
       "      <td>Ben-Hur (1959)</td>\n",
       "      <td>Action|Adventure|Drama</td>\n",
       "    </tr>\n",
       "    <tr>\n",
       "      <th>7</th>\n",
       "      <td>1293</td>\n",
       "      <td>Gandhi (1982)</td>\n",
       "      <td>Drama</td>\n",
       "    </tr>\n",
       "    <tr>\n",
       "      <th>8</th>\n",
       "      <td>1339</td>\n",
       "      <td>Dracula (Bram Stoker's Dracula) (1992)</td>\n",
       "      <td>Fantasy|Horror|Romance|Thriller</td>\n",
       "    </tr>\n",
       "    <tr>\n",
       "      <th>9</th>\n",
       "      <td>1343</td>\n",
       "      <td>Cape Fear (1991)</td>\n",
       "      <td>Thriller</td>\n",
       "    </tr>\n",
       "    <tr>\n",
       "      <th>10</th>\n",
       "      <td>1371</td>\n",
       "      <td>Star Trek: The Motion Picture (1979)</td>\n",
       "      <td>Adventure|Sci-Fi</td>\n",
       "    </tr>\n",
       "    <tr>\n",
       "      <th>11</th>\n",
       "      <td>1405</td>\n",
       "      <td>Beavis and Butt-Head Do America (1996)</td>\n",
       "      <td>Adventure|Animation|Comedy|Crime</td>\n",
       "    </tr>\n",
       "    <tr>\n",
       "      <th>12</th>\n",
       "      <td>1953</td>\n",
       "      <td>French Connection, The (1971)</td>\n",
       "      <td>Action|Crime|Thriller</td>\n",
       "    </tr>\n",
       "    <tr>\n",
       "      <th>13</th>\n",
       "      <td>2105</td>\n",
       "      <td>Tron (1982)</td>\n",
       "      <td>Action|Adventure|Sci-Fi</td>\n",
       "    </tr>\n",
       "    <tr>\n",
       "      <th>14</th>\n",
       "      <td>2150</td>\n",
       "      <td>Gods Must Be Crazy, The (1980)</td>\n",
       "      <td>Adventure|Comedy</td>\n",
       "    </tr>\n",
       "    <tr>\n",
       "      <th>15</th>\n",
       "      <td>2193</td>\n",
       "      <td>Willow (1988)</td>\n",
       "      <td>Action|Adventure|Fantasy</td>\n",
       "    </tr>\n",
       "    <tr>\n",
       "      <th>16</th>\n",
       "      <td>2294</td>\n",
       "      <td>Antz (1998)</td>\n",
       "      <td>Adventure|Animation|Children|Comedy|Fantasy</td>\n",
       "    </tr>\n",
       "    <tr>\n",
       "      <th>17</th>\n",
       "      <td>2455</td>\n",
       "      <td>Fly, The (1986)</td>\n",
       "      <td>Drama|Horror|Sci-Fi|Thriller</td>\n",
       "    </tr>\n",
       "    <tr>\n",
       "      <th>18</th>\n",
       "      <td>2968</td>\n",
       "      <td>Time Bandits (1981)</td>\n",
       "      <td>Adventure|Comedy|Fantasy|Sci-Fi</td>\n",
       "    </tr>\n",
       "    <tr>\n",
       "      <th>19</th>\n",
       "      <td>3671</td>\n",
       "      <td>Blazing Saddles (1974)</td>\n",
       "      <td>Comedy|Western</td>\n",
       "    </tr>\n",
       "  </tbody>\n",
       "</table>\n",
       "</div>"
      ],
      "text/plain": [
       "    movieId                                           title  \\\n",
       "0        31                          Dangerous Minds (1995)   \n",
       "1      1029                                    Dumbo (1941)   \n",
       "2      1061                                 Sleepers (1996)   \n",
       "3      1129                     Escape from New York (1981)   \n",
       "4      1172  Cinema Paradiso (Nuovo cinema Paradiso) (1989)   \n",
       "5      1263                         Deer Hunter, The (1978)   \n",
       "6      1287                                  Ben-Hur (1959)   \n",
       "7      1293                                   Gandhi (1982)   \n",
       "8      1339          Dracula (Bram Stoker's Dracula) (1992)   \n",
       "9      1343                                Cape Fear (1991)   \n",
       "10     1371            Star Trek: The Motion Picture (1979)   \n",
       "11     1405          Beavis and Butt-Head Do America (1996)   \n",
       "12     1953                   French Connection, The (1971)   \n",
       "13     2105                                     Tron (1982)   \n",
       "14     2150                  Gods Must Be Crazy, The (1980)   \n",
       "15     2193                                   Willow (1988)   \n",
       "16     2294                                     Antz (1998)   \n",
       "17     2455                                 Fly, The (1986)   \n",
       "18     2968                             Time Bandits (1981)   \n",
       "19     3671                          Blazing Saddles (1974)   \n",
       "\n",
       "                                         genres  \n",
       "0                                         Drama  \n",
       "1              Animation|Children|Drama|Musical  \n",
       "2                                      Thriller  \n",
       "3              Action|Adventure|Sci-Fi|Thriller  \n",
       "4                                         Drama  \n",
       "5                                     Drama|War  \n",
       "6                        Action|Adventure|Drama  \n",
       "7                                         Drama  \n",
       "8               Fantasy|Horror|Romance|Thriller  \n",
       "9                                      Thriller  \n",
       "10                             Adventure|Sci-Fi  \n",
       "11             Adventure|Animation|Comedy|Crime  \n",
       "12                        Action|Crime|Thriller  \n",
       "13                      Action|Adventure|Sci-Fi  \n",
       "14                             Adventure|Comedy  \n",
       "15                     Action|Adventure|Fantasy  \n",
       "16  Adventure|Animation|Children|Comedy|Fantasy  \n",
       "17                 Drama|Horror|Sci-Fi|Thriller  \n",
       "18              Adventure|Comedy|Fantasy|Sci-Fi  \n",
       "19                               Comedy|Western  "
      ]
     },
     "execution_count": 9,
     "metadata": {},
     "output_type": "execute_result"
    }
   ],
   "source": [
    "rated_movies = pd.merge(rated_movies, movies_table, on='movieId', how='left')\n",
    "rated_movies"
   ]
  },
  {
   "cell_type": "code",
   "execution_count": 10,
   "metadata": {},
   "outputs": [],
   "source": [
    "def get_movies(movieTableIDs, movies_table):\n",
    "    \"\"\"\n",
    "    Input\n",
    "    -----\n",
    "    \n",
    "    movieTableIDs: python list\n",
    "        List of movie IDs that the user had rated\n",
    "        \n",
    "    movies_table: pd.DataFrame\n",
    "        DataFrame of movies info\n",
    "        \n",
    "    Output\n",
    "    -----\n",
    "    \n",
    "    rated_movies: pd.DataFrame\n",
    "        DataFrame of rated movies\n",
    "    \n",
    "    \"\"\"\n",
    "    \n",
    "    rated_movies = pd.DataFrame(movieTableIDs, columns=['movieId'])\n",
    "    \n",
    "    rated_movies = pd.merge(rated_movies, movies_table, on='movieId', how='left')\n",
    "    \n",
    "    return rated_movies"
   ]
  },
  {
   "cell_type": "code",
   "execution_count": 11,
   "metadata": {},
   "outputs": [
    {
     "data": {
      "text/html": [
       "<div>\n",
       "<style scoped>\n",
       "    .dataframe tbody tr th:only-of-type {\n",
       "        vertical-align: middle;\n",
       "    }\n",
       "\n",
       "    .dataframe tbody tr th {\n",
       "        vertical-align: top;\n",
       "    }\n",
       "\n",
       "    .dataframe thead th {\n",
       "        text-align: right;\n",
       "    }\n",
       "</style>\n",
       "<table border=\"1\" class=\"dataframe\">\n",
       "  <thead>\n",
       "    <tr style=\"text-align: right;\">\n",
       "      <th></th>\n",
       "      <th>movieId</th>\n",
       "      <th>title</th>\n",
       "      <th>genres</th>\n",
       "    </tr>\n",
       "  </thead>\n",
       "  <tbody>\n",
       "    <tr>\n",
       "      <th>0</th>\n",
       "      <td>31</td>\n",
       "      <td>Dangerous Minds (1995)</td>\n",
       "      <td>Drama</td>\n",
       "    </tr>\n",
       "    <tr>\n",
       "      <th>1</th>\n",
       "      <td>1029</td>\n",
       "      <td>Dumbo (1941)</td>\n",
       "      <td>Animation|Children|Drama|Musical</td>\n",
       "    </tr>\n",
       "    <tr>\n",
       "      <th>2</th>\n",
       "      <td>1061</td>\n",
       "      <td>Sleepers (1996)</td>\n",
       "      <td>Thriller</td>\n",
       "    </tr>\n",
       "    <tr>\n",
       "      <th>3</th>\n",
       "      <td>1129</td>\n",
       "      <td>Escape from New York (1981)</td>\n",
       "      <td>Action|Adventure|Sci-Fi|Thriller</td>\n",
       "    </tr>\n",
       "    <tr>\n",
       "      <th>4</th>\n",
       "      <td>1172</td>\n",
       "      <td>Cinema Paradiso (Nuovo cinema Paradiso) (1989)</td>\n",
       "      <td>Drama</td>\n",
       "    </tr>\n",
       "    <tr>\n",
       "      <th>5</th>\n",
       "      <td>1263</td>\n",
       "      <td>Deer Hunter, The (1978)</td>\n",
       "      <td>Drama|War</td>\n",
       "    </tr>\n",
       "    <tr>\n",
       "      <th>6</th>\n",
       "      <td>1287</td>\n",
       "      <td>Ben-Hur (1959)</td>\n",
       "      <td>Action|Adventure|Drama</td>\n",
       "    </tr>\n",
       "    <tr>\n",
       "      <th>7</th>\n",
       "      <td>1293</td>\n",
       "      <td>Gandhi (1982)</td>\n",
       "      <td>Drama</td>\n",
       "    </tr>\n",
       "    <tr>\n",
       "      <th>8</th>\n",
       "      <td>1339</td>\n",
       "      <td>Dracula (Bram Stoker's Dracula) (1992)</td>\n",
       "      <td>Fantasy|Horror|Romance|Thriller</td>\n",
       "    </tr>\n",
       "    <tr>\n",
       "      <th>9</th>\n",
       "      <td>1343</td>\n",
       "      <td>Cape Fear (1991)</td>\n",
       "      <td>Thriller</td>\n",
       "    </tr>\n",
       "    <tr>\n",
       "      <th>10</th>\n",
       "      <td>1371</td>\n",
       "      <td>Star Trek: The Motion Picture (1979)</td>\n",
       "      <td>Adventure|Sci-Fi</td>\n",
       "    </tr>\n",
       "    <tr>\n",
       "      <th>11</th>\n",
       "      <td>1405</td>\n",
       "      <td>Beavis and Butt-Head Do America (1996)</td>\n",
       "      <td>Adventure|Animation|Comedy|Crime</td>\n",
       "    </tr>\n",
       "    <tr>\n",
       "      <th>12</th>\n",
       "      <td>1953</td>\n",
       "      <td>French Connection, The (1971)</td>\n",
       "      <td>Action|Crime|Thriller</td>\n",
       "    </tr>\n",
       "    <tr>\n",
       "      <th>13</th>\n",
       "      <td>2105</td>\n",
       "      <td>Tron (1982)</td>\n",
       "      <td>Action|Adventure|Sci-Fi</td>\n",
       "    </tr>\n",
       "    <tr>\n",
       "      <th>14</th>\n",
       "      <td>2150</td>\n",
       "      <td>Gods Must Be Crazy, The (1980)</td>\n",
       "      <td>Adventure|Comedy</td>\n",
       "    </tr>\n",
       "    <tr>\n",
       "      <th>15</th>\n",
       "      <td>2193</td>\n",
       "      <td>Willow (1988)</td>\n",
       "      <td>Action|Adventure|Fantasy</td>\n",
       "    </tr>\n",
       "    <tr>\n",
       "      <th>16</th>\n",
       "      <td>2294</td>\n",
       "      <td>Antz (1998)</td>\n",
       "      <td>Adventure|Animation|Children|Comedy|Fantasy</td>\n",
       "    </tr>\n",
       "    <tr>\n",
       "      <th>17</th>\n",
       "      <td>2455</td>\n",
       "      <td>Fly, The (1986)</td>\n",
       "      <td>Drama|Horror|Sci-Fi|Thriller</td>\n",
       "    </tr>\n",
       "    <tr>\n",
       "      <th>18</th>\n",
       "      <td>2968</td>\n",
       "      <td>Time Bandits (1981)</td>\n",
       "      <td>Adventure|Comedy|Fantasy|Sci-Fi</td>\n",
       "    </tr>\n",
       "    <tr>\n",
       "      <th>19</th>\n",
       "      <td>3671</td>\n",
       "      <td>Blazing Saddles (1974)</td>\n",
       "      <td>Comedy|Western</td>\n",
       "    </tr>\n",
       "  </tbody>\n",
       "</table>\n",
       "</div>"
      ],
      "text/plain": [
       "    movieId                                           title  \\\n",
       "0        31                          Dangerous Minds (1995)   \n",
       "1      1029                                    Dumbo (1941)   \n",
       "2      1061                                 Sleepers (1996)   \n",
       "3      1129                     Escape from New York (1981)   \n",
       "4      1172  Cinema Paradiso (Nuovo cinema Paradiso) (1989)   \n",
       "5      1263                         Deer Hunter, The (1978)   \n",
       "6      1287                                  Ben-Hur (1959)   \n",
       "7      1293                                   Gandhi (1982)   \n",
       "8      1339          Dracula (Bram Stoker's Dracula) (1992)   \n",
       "9      1343                                Cape Fear (1991)   \n",
       "10     1371            Star Trek: The Motion Picture (1979)   \n",
       "11     1405          Beavis and Butt-Head Do America (1996)   \n",
       "12     1953                   French Connection, The (1971)   \n",
       "13     2105                                     Tron (1982)   \n",
       "14     2150                  Gods Must Be Crazy, The (1980)   \n",
       "15     2193                                   Willow (1988)   \n",
       "16     2294                                     Antz (1998)   \n",
       "17     2455                                 Fly, The (1986)   \n",
       "18     2968                             Time Bandits (1981)   \n",
       "19     3671                          Blazing Saddles (1974)   \n",
       "\n",
       "                                         genres  \n",
       "0                                         Drama  \n",
       "1              Animation|Children|Drama|Musical  \n",
       "2                                      Thriller  \n",
       "3              Action|Adventure|Sci-Fi|Thriller  \n",
       "4                                         Drama  \n",
       "5                                     Drama|War  \n",
       "6                        Action|Adventure|Drama  \n",
       "7                                         Drama  \n",
       "8               Fantasy|Horror|Romance|Thriller  \n",
       "9                                      Thriller  \n",
       "10                             Adventure|Sci-Fi  \n",
       "11             Adventure|Animation|Comedy|Crime  \n",
       "12                        Action|Crime|Thriller  \n",
       "13                      Action|Adventure|Sci-Fi  \n",
       "14                             Adventure|Comedy  \n",
       "15                     Action|Adventure|Fantasy  \n",
       "16  Adventure|Animation|Children|Comedy|Fantasy  \n",
       "17                 Drama|Horror|Sci-Fi|Thriller  \n",
       "18              Adventure|Comedy|Fantasy|Sci-Fi  \n",
       "19                               Comedy|Western  "
      ]
     },
     "execution_count": 11,
     "metadata": {},
     "output_type": "execute_result"
    }
   ],
   "source": [
    "movieTableIDs = get_rated_movies_ids(1, user_item, users, movies)\n",
    "df = get_movies(movieTableIDs, movies_table)\n",
    "df"
   ]
  },
  {
   "cell_type": "code",
   "execution_count": 12,
   "metadata": {},
   "outputs": [],
   "source": [
    "def recommend_movie_ids(user_id, model, user_item, users, movies, N=5):\n",
    "    \"\"\"\n",
    "    Input\n",
    "    -----\n",
    "    \n",
    "    user_id: int\n",
    "        User ID\n",
    "        \n",
    "    model: ALS model\n",
    "        Trained ALS model\n",
    "    \n",
    "    user_item: sp.Sparse Matrix\n",
    "        User item interaction matrix so that we do not recommend already rated movies\n",
    "        \n",
    "    users: np.array\n",
    "        Mapping array between User ID and user item index\n",
    "        \n",
    "    movies: np.array\n",
    "        Mapping array between Movie ID and user item index\n",
    "        \n",
    "    N: int (default =5)\n",
    "        Number of recommendations\n",
    "        \n",
    "    Output\n",
    "    -----\n",
    "    \n",
    "    movies_ids: python list\n",
    "        List of movie IDs\n",
    "    \"\"\"\n",
    "    \n",
    "    user_id = users.index(user_id)\n",
    "    \n",
    "    recommendations = model.recommend(user_id, user_item, N=N)\n",
    "    \n",
    "    recommendations = [item[0] for item in recommendations]\n",
    "    \n",
    "    movies_ids = [movies[ids] for ids in recommendations]\n",
    "    \n",
    "    return movies_ids"
   ]
  },
  {
   "cell_type": "code",
   "execution_count": 13,
   "metadata": {},
   "outputs": [
    {
     "data": {
      "text/plain": [
       "[1374, 1127, 1214, 1376, 541]"
      ]
     },
     "execution_count": 13,
     "metadata": {},
     "output_type": "execute_result"
    }
   ],
   "source": [
    "movies_ids = recommend_movie_ids(1, model, user_item, users, movies, N=5)\n",
    "movies_ids"
   ]
  },
  {
   "cell_type": "code",
   "execution_count": 14,
   "metadata": {
    "scrolled": true
   },
   "outputs": [
    {
     "data": {
      "text/html": [
       "<div>\n",
       "<style scoped>\n",
       "    .dataframe tbody tr th:only-of-type {\n",
       "        vertical-align: middle;\n",
       "    }\n",
       "\n",
       "    .dataframe tbody tr th {\n",
       "        vertical-align: top;\n",
       "    }\n",
       "\n",
       "    .dataframe thead th {\n",
       "        text-align: right;\n",
       "    }\n",
       "</style>\n",
       "<table border=\"1\" class=\"dataframe\">\n",
       "  <thead>\n",
       "    <tr style=\"text-align: right;\">\n",
       "      <th></th>\n",
       "      <th>movieId</th>\n",
       "      <th>title</th>\n",
       "      <th>genres</th>\n",
       "    </tr>\n",
       "  </thead>\n",
       "  <tbody>\n",
       "    <tr>\n",
       "      <th>0</th>\n",
       "      <td>1374</td>\n",
       "      <td>Star Trek II: The Wrath of Khan (1982)</td>\n",
       "      <td>Action|Adventure|Sci-Fi|Thriller</td>\n",
       "    </tr>\n",
       "    <tr>\n",
       "      <th>1</th>\n",
       "      <td>1127</td>\n",
       "      <td>Abyss, The (1989)</td>\n",
       "      <td>Action|Adventure|Sci-Fi|Thriller</td>\n",
       "    </tr>\n",
       "    <tr>\n",
       "      <th>2</th>\n",
       "      <td>1214</td>\n",
       "      <td>Alien (1979)</td>\n",
       "      <td>Horror|Sci-Fi</td>\n",
       "    </tr>\n",
       "    <tr>\n",
       "      <th>3</th>\n",
       "      <td>1376</td>\n",
       "      <td>Star Trek IV: The Voyage Home (1986)</td>\n",
       "      <td>Adventure|Comedy|Sci-Fi</td>\n",
       "    </tr>\n",
       "    <tr>\n",
       "      <th>4</th>\n",
       "      <td>541</td>\n",
       "      <td>Blade Runner (1982)</td>\n",
       "      <td>Action|Sci-Fi|Thriller</td>\n",
       "    </tr>\n",
       "  </tbody>\n",
       "</table>\n",
       "</div>"
      ],
      "text/plain": [
       "   movieId                                   title  \\\n",
       "0     1374  Star Trek II: The Wrath of Khan (1982)   \n",
       "1     1127                       Abyss, The (1989)   \n",
       "2     1214                            Alien (1979)   \n",
       "3     1376    Star Trek IV: The Voyage Home (1986)   \n",
       "4      541                     Blade Runner (1982)   \n",
       "\n",
       "                             genres  \n",
       "0  Action|Adventure|Sci-Fi|Thriller  \n",
       "1  Action|Adventure|Sci-Fi|Thriller  \n",
       "2                     Horror|Sci-Fi  \n",
       "3           Adventure|Comedy|Sci-Fi  \n",
       "4            Action|Sci-Fi|Thriller  "
      ]
     },
     "execution_count": 14,
     "metadata": {},
     "output_type": "execute_result"
    }
   ],
   "source": [
    "movies_rec = get_movies(movies_ids, movies_table)\n",
    "movies_rec"
   ]
  },
  {
   "cell_type": "code",
   "execution_count": 15,
   "metadata": {},
   "outputs": [
    {
     "data": {
      "text/html": [
       "<div>\n",
       "<style scoped>\n",
       "    .dataframe tbody tr th:only-of-type {\n",
       "        vertical-align: middle;\n",
       "    }\n",
       "\n",
       "    .dataframe tbody tr th {\n",
       "        vertical-align: top;\n",
       "    }\n",
       "\n",
       "    .dataframe thead th {\n",
       "        text-align: right;\n",
       "    }\n",
       "</style>\n",
       "<table border=\"1\" class=\"dataframe\">\n",
       "  <thead>\n",
       "    <tr style=\"text-align: right;\">\n",
       "      <th></th>\n",
       "      <th>movieId</th>\n",
       "      <th>title</th>\n",
       "      <th>genres</th>\n",
       "    </tr>\n",
       "  </thead>\n",
       "  <tbody>\n",
       "    <tr>\n",
       "      <th>0</th>\n",
       "      <td>31</td>\n",
       "      <td>Dangerous Minds (1995)</td>\n",
       "      <td>Drama</td>\n",
       "    </tr>\n",
       "    <tr>\n",
       "      <th>1</th>\n",
       "      <td>1029</td>\n",
       "      <td>Dumbo (1941)</td>\n",
       "      <td>Animation|Children|Drama|Musical</td>\n",
       "    </tr>\n",
       "    <tr>\n",
       "      <th>2</th>\n",
       "      <td>1061</td>\n",
       "      <td>Sleepers (1996)</td>\n",
       "      <td>Thriller</td>\n",
       "    </tr>\n",
       "    <tr>\n",
       "      <th>3</th>\n",
       "      <td>1129</td>\n",
       "      <td>Escape from New York (1981)</td>\n",
       "      <td>Action|Adventure|Sci-Fi|Thriller</td>\n",
       "    </tr>\n",
       "    <tr>\n",
       "      <th>4</th>\n",
       "      <td>1172</td>\n",
       "      <td>Cinema Paradiso (Nuovo cinema Paradiso) (1989)</td>\n",
       "      <td>Drama</td>\n",
       "    </tr>\n",
       "    <tr>\n",
       "      <th>5</th>\n",
       "      <td>1263</td>\n",
       "      <td>Deer Hunter, The (1978)</td>\n",
       "      <td>Drama|War</td>\n",
       "    </tr>\n",
       "    <tr>\n",
       "      <th>6</th>\n",
       "      <td>1287</td>\n",
       "      <td>Ben-Hur (1959)</td>\n",
       "      <td>Action|Adventure|Drama</td>\n",
       "    </tr>\n",
       "    <tr>\n",
       "      <th>7</th>\n",
       "      <td>1293</td>\n",
       "      <td>Gandhi (1982)</td>\n",
       "      <td>Drama</td>\n",
       "    </tr>\n",
       "    <tr>\n",
       "      <th>8</th>\n",
       "      <td>1339</td>\n",
       "      <td>Dracula (Bram Stoker's Dracula) (1992)</td>\n",
       "      <td>Fantasy|Horror|Romance|Thriller</td>\n",
       "    </tr>\n",
       "    <tr>\n",
       "      <th>9</th>\n",
       "      <td>1343</td>\n",
       "      <td>Cape Fear (1991)</td>\n",
       "      <td>Thriller</td>\n",
       "    </tr>\n",
       "    <tr>\n",
       "      <th>10</th>\n",
       "      <td>1371</td>\n",
       "      <td>Star Trek: The Motion Picture (1979)</td>\n",
       "      <td>Adventure|Sci-Fi</td>\n",
       "    </tr>\n",
       "    <tr>\n",
       "      <th>11</th>\n",
       "      <td>1405</td>\n",
       "      <td>Beavis and Butt-Head Do America (1996)</td>\n",
       "      <td>Adventure|Animation|Comedy|Crime</td>\n",
       "    </tr>\n",
       "    <tr>\n",
       "      <th>12</th>\n",
       "      <td>1953</td>\n",
       "      <td>French Connection, The (1971)</td>\n",
       "      <td>Action|Crime|Thriller</td>\n",
       "    </tr>\n",
       "    <tr>\n",
       "      <th>13</th>\n",
       "      <td>2105</td>\n",
       "      <td>Tron (1982)</td>\n",
       "      <td>Action|Adventure|Sci-Fi</td>\n",
       "    </tr>\n",
       "    <tr>\n",
       "      <th>14</th>\n",
       "      <td>2150</td>\n",
       "      <td>Gods Must Be Crazy, The (1980)</td>\n",
       "      <td>Adventure|Comedy</td>\n",
       "    </tr>\n",
       "    <tr>\n",
       "      <th>15</th>\n",
       "      <td>2193</td>\n",
       "      <td>Willow (1988)</td>\n",
       "      <td>Action|Adventure|Fantasy</td>\n",
       "    </tr>\n",
       "    <tr>\n",
       "      <th>16</th>\n",
       "      <td>2294</td>\n",
       "      <td>Antz (1998)</td>\n",
       "      <td>Adventure|Animation|Children|Comedy|Fantasy</td>\n",
       "    </tr>\n",
       "    <tr>\n",
       "      <th>17</th>\n",
       "      <td>2455</td>\n",
       "      <td>Fly, The (1986)</td>\n",
       "      <td>Drama|Horror|Sci-Fi|Thriller</td>\n",
       "    </tr>\n",
       "    <tr>\n",
       "      <th>18</th>\n",
       "      <td>2968</td>\n",
       "      <td>Time Bandits (1981)</td>\n",
       "      <td>Adventure|Comedy|Fantasy|Sci-Fi</td>\n",
       "    </tr>\n",
       "    <tr>\n",
       "      <th>19</th>\n",
       "      <td>3671</td>\n",
       "      <td>Blazing Saddles (1974)</td>\n",
       "      <td>Comedy|Western</td>\n",
       "    </tr>\n",
       "  </tbody>\n",
       "</table>\n",
       "</div>"
      ],
      "text/plain": [
       "    movieId                                           title  \\\n",
       "0        31                          Dangerous Minds (1995)   \n",
       "1      1029                                    Dumbo (1941)   \n",
       "2      1061                                 Sleepers (1996)   \n",
       "3      1129                     Escape from New York (1981)   \n",
       "4      1172  Cinema Paradiso (Nuovo cinema Paradiso) (1989)   \n",
       "5      1263                         Deer Hunter, The (1978)   \n",
       "6      1287                                  Ben-Hur (1959)   \n",
       "7      1293                                   Gandhi (1982)   \n",
       "8      1339          Dracula (Bram Stoker's Dracula) (1992)   \n",
       "9      1343                                Cape Fear (1991)   \n",
       "10     1371            Star Trek: The Motion Picture (1979)   \n",
       "11     1405          Beavis and Butt-Head Do America (1996)   \n",
       "12     1953                   French Connection, The (1971)   \n",
       "13     2105                                     Tron (1982)   \n",
       "14     2150                  Gods Must Be Crazy, The (1980)   \n",
       "15     2193                                   Willow (1988)   \n",
       "16     2294                                     Antz (1998)   \n",
       "17     2455                                 Fly, The (1986)   \n",
       "18     2968                             Time Bandits (1981)   \n",
       "19     3671                          Blazing Saddles (1974)   \n",
       "\n",
       "                                         genres  \n",
       "0                                         Drama  \n",
       "1              Animation|Children|Drama|Musical  \n",
       "2                                      Thriller  \n",
       "3              Action|Adventure|Sci-Fi|Thriller  \n",
       "4                                         Drama  \n",
       "5                                     Drama|War  \n",
       "6                        Action|Adventure|Drama  \n",
       "7                                         Drama  \n",
       "8               Fantasy|Horror|Romance|Thriller  \n",
       "9                                      Thriller  \n",
       "10                             Adventure|Sci-Fi  \n",
       "11             Adventure|Animation|Comedy|Crime  \n",
       "12                        Action|Crime|Thriller  \n",
       "13                      Action|Adventure|Sci-Fi  \n",
       "14                             Adventure|Comedy  \n",
       "15                     Action|Adventure|Fantasy  \n",
       "16  Adventure|Animation|Children|Comedy|Fantasy  \n",
       "17                 Drama|Horror|Sci-Fi|Thriller  \n",
       "18              Adventure|Comedy|Fantasy|Sci-Fi  \n",
       "19                               Comedy|Western  "
      ]
     },
     "execution_count": 15,
     "metadata": {},
     "output_type": "execute_result"
    }
   ],
   "source": [
    "df"
   ]
  },
  {
   "cell_type": "markdown",
   "metadata": {},
   "source": [
    "## Add posters data"
   ]
  },
  {
   "cell_type": "code",
   "execution_count": 16,
   "metadata": {},
   "outputs": [
    {
     "name": "stderr",
     "output_type": "stream",
     "text": [
      "/home/maviator/anaconda2/lib/python2.7/site-packages/IPython/core/interactiveshell.py:2718: DtypeWarning: Columns (10) have mixed types. Specify dtype option on import or set low_memory=False.\n",
      "  interactivity=interactivity, compiler=compiler, result=result)\n"
     ]
    },
    {
     "name": "stdout",
     "output_type": "stream",
     "text": [
      "0\n",
      "0\n",
      "0\n"
     ]
    },
    {
     "data": {
      "text/html": [
       "<div>\n",
       "<style scoped>\n",
       "    .dataframe tbody tr th:only-of-type {\n",
       "        vertical-align: middle;\n",
       "    }\n",
       "\n",
       "    .dataframe tbody tr th {\n",
       "        vertical-align: top;\n",
       "    }\n",
       "\n",
       "    .dataframe thead th {\n",
       "        text-align: right;\n",
       "    }\n",
       "</style>\n",
       "<table border=\"1\" class=\"dataframe\">\n",
       "  <thead>\n",
       "    <tr style=\"text-align: right;\">\n",
       "      <th></th>\n",
       "      <th>movieId</th>\n",
       "      <th>title</th>\n",
       "      <th>genres</th>\n",
       "      <th>poster_path</th>\n",
       "    </tr>\n",
       "  </thead>\n",
       "  <tbody>\n",
       "    <tr>\n",
       "      <th>0</th>\n",
       "      <td>1</td>\n",
       "      <td>Toy Story (1995)</td>\n",
       "      <td>Adventure|Animation|Children|Comedy|Fantasy</td>\n",
       "      <td>/rhIRbceoE9lR4veEXuwCC2wARtG.jpg</td>\n",
       "    </tr>\n",
       "    <tr>\n",
       "      <th>1</th>\n",
       "      <td>2</td>\n",
       "      <td>Jumanji (1995)</td>\n",
       "      <td>Adventure|Children|Fantasy</td>\n",
       "      <td>/vzmL6fP7aPKNKPRTFnZmiUfciyV.jpg</td>\n",
       "    </tr>\n",
       "    <tr>\n",
       "      <th>2</th>\n",
       "      <td>3</td>\n",
       "      <td>Grumpier Old Men (1995)</td>\n",
       "      <td>Comedy|Romance</td>\n",
       "      <td>/6ksm1sjKMFLbO7UY2i6G1ju9SML.jpg</td>\n",
       "    </tr>\n",
       "    <tr>\n",
       "      <th>3</th>\n",
       "      <td>4</td>\n",
       "      <td>Waiting to Exhale (1995)</td>\n",
       "      <td>Comedy|Drama|Romance</td>\n",
       "      <td>/16XOMpEaLWkrcPqSQqhTmeJuqQl.jpg</td>\n",
       "    </tr>\n",
       "    <tr>\n",
       "      <th>4</th>\n",
       "      <td>5</td>\n",
       "      <td>Father of the Bride Part II (1995)</td>\n",
       "      <td>Comedy</td>\n",
       "      <td>/e64sOI48hQXyru7naBFyssKFxVd.jpg</td>\n",
       "    </tr>\n",
       "  </tbody>\n",
       "</table>\n",
       "</div>"
      ],
      "text/plain": [
       "   movieId                               title  \\\n",
       "0        1                    Toy Story (1995)   \n",
       "1        2                      Jumanji (1995)   \n",
       "2        3             Grumpier Old Men (1995)   \n",
       "3        4            Waiting to Exhale (1995)   \n",
       "4        5  Father of the Bride Part II (1995)   \n",
       "\n",
       "                                        genres  \\\n",
       "0  Adventure|Animation|Children|Comedy|Fantasy   \n",
       "1                   Adventure|Children|Fantasy   \n",
       "2                               Comedy|Romance   \n",
       "3                         Comedy|Drama|Romance   \n",
       "4                                       Comedy   \n",
       "\n",
       "                        poster_path  \n",
       "0  /rhIRbceoE9lR4veEXuwCC2wARtG.jpg  \n",
       "1  /vzmL6fP7aPKNKPRTFnZmiUfciyV.jpg  \n",
       "2  /6ksm1sjKMFLbO7UY2i6G1ju9SML.jpg  \n",
       "3  /16XOMpEaLWkrcPqSQqhTmeJuqQl.jpg  \n",
       "4  /e64sOI48hQXyru7naBFyssKFxVd.jpg  "
      ]
     },
     "execution_count": 16,
     "metadata": {},
     "output_type": "execute_result"
    }
   ],
   "source": [
    "metadata = pd.read_csv('data/movies_metadata.csv')\n",
    "\n",
    "image_data = metadata[['imdb_id', 'poster_path']]\n",
    "\n",
    "links = pd.read_csv(\"data/links.csv\")\n",
    "\n",
    "links = links[['movieId', 'imdbId']]\n",
    "\n",
    "image_data = image_data[~ image_data.imdb_id.isnull()]\n",
    "\n",
    "def app(x):\n",
    "    try:\n",
    "        return int(x[2:])\n",
    "    except ValueError:\n",
    "        print x\n",
    "        \n",
    "image_data['imdbId'] = image_data.imdb_id.apply(app)\n",
    "image_data = image_data[~ image_data.imdbId.isnull()]\n",
    "image_data.imdbId = image_data.imdbId.astype(int)\n",
    "image_data = image_data[['imdbId', 'poster_path']]\n",
    "\n",
    "\n",
    "posters = pd.merge(image_data, links, on='imdbId', how='left')\n",
    "\n",
    "posters = posters[['movieId', 'poster_path']]\n",
    "\n",
    "posters = posters[~ posters.movieId.isnull()]\n",
    "\n",
    "posters.movieId = posters.movieId.astype(int)\n",
    "\n",
    "movies_table = pd.merge(movies_table, posters, on='movieId', how='left')\n",
    "movies_table.head()"
   ]
  },
  {
   "cell_type": "code",
   "execution_count": 17,
   "metadata": {},
   "outputs": [],
   "source": [
    "from IPython.display import HTML\n",
    "from IPython.display import display\n",
    "\n",
    "def display_posters(df):\n",
    "    \n",
    "    images = '<p>'\n",
    "    for ref in df.poster_path:\n",
    "            if ref != '':\n",
    "                link = 'http://image.tmdb.org/t/p/w185/' + ref\n",
    "                images += \"<img style='width: 120px; margin: 0px; \\\n",
    "                  float: left; border: 1px solid black;' src='%s' />\" \\\n",
    "              % link\n",
    "    images += '</p>'\n",
    "    display(HTML(images))"
   ]
  },
  {
   "cell_type": "code",
   "execution_count": 18,
   "metadata": {},
   "outputs": [
    {
     "data": {
      "text/html": [
       "<div>\n",
       "<style scoped>\n",
       "    .dataframe tbody tr th:only-of-type {\n",
       "        vertical-align: middle;\n",
       "    }\n",
       "\n",
       "    .dataframe tbody tr th {\n",
       "        vertical-align: top;\n",
       "    }\n",
       "\n",
       "    .dataframe thead th {\n",
       "        text-align: right;\n",
       "    }\n",
       "</style>\n",
       "<table border=\"1\" class=\"dataframe\">\n",
       "  <thead>\n",
       "    <tr style=\"text-align: right;\">\n",
       "      <th></th>\n",
       "      <th>movieId</th>\n",
       "      <th>title</th>\n",
       "      <th>genres</th>\n",
       "      <th>poster_path</th>\n",
       "    </tr>\n",
       "  </thead>\n",
       "  <tbody>\n",
       "    <tr>\n",
       "      <th>0</th>\n",
       "      <td>1374</td>\n",
       "      <td>Star Trek II: The Wrath of Khan (1982)</td>\n",
       "      <td>Action|Adventure|Sci-Fi|Thriller</td>\n",
       "      <td>/7VKpj4Xl3hTzgAS3xpVuOyqNnSv.jpg</td>\n",
       "    </tr>\n",
       "    <tr>\n",
       "      <th>1</th>\n",
       "      <td>1127</td>\n",
       "      <td>Abyss, The (1989)</td>\n",
       "      <td>Action|Adventure|Sci-Fi|Thriller</td>\n",
       "      <td>/kRP5dGXDhKt7bDpXX4YBa4dRwlL.jpg</td>\n",
       "    </tr>\n",
       "    <tr>\n",
       "      <th>2</th>\n",
       "      <td>1214</td>\n",
       "      <td>Alien (1979)</td>\n",
       "      <td>Horror|Sci-Fi</td>\n",
       "      <td>/2h00HrZs89SL3tXB4nbkiM7BKHs.jpg</td>\n",
       "    </tr>\n",
       "    <tr>\n",
       "      <th>3</th>\n",
       "      <td>1376</td>\n",
       "      <td>Star Trek IV: The Voyage Home (1986)</td>\n",
       "      <td>Adventure|Comedy|Sci-Fi</td>\n",
       "      <td>/62nATuMKuaLhd5VHKumHOrJnCZa.jpg</td>\n",
       "    </tr>\n",
       "    <tr>\n",
       "      <th>4</th>\n",
       "      <td>541</td>\n",
       "      <td>Blade Runner (1982)</td>\n",
       "      <td>Action|Sci-Fi|Thriller</td>\n",
       "      <td>/p64TtbZGCElxQHpAMWmDHkWJlH2.jpg</td>\n",
       "    </tr>\n",
       "  </tbody>\n",
       "</table>\n",
       "</div>"
      ],
      "text/plain": [
       "   movieId                                   title  \\\n",
       "0     1374  Star Trek II: The Wrath of Khan (1982)   \n",
       "1     1127                       Abyss, The (1989)   \n",
       "2     1214                            Alien (1979)   \n",
       "3     1376    Star Trek IV: The Voyage Home (1986)   \n",
       "4      541                     Blade Runner (1982)   \n",
       "\n",
       "                             genres                       poster_path  \n",
       "0  Action|Adventure|Sci-Fi|Thriller  /7VKpj4Xl3hTzgAS3xpVuOyqNnSv.jpg  \n",
       "1  Action|Adventure|Sci-Fi|Thriller  /kRP5dGXDhKt7bDpXX4YBa4dRwlL.jpg  \n",
       "2                     Horror|Sci-Fi  /2h00HrZs89SL3tXB4nbkiM7BKHs.jpg  \n",
       "3           Adventure|Comedy|Sci-Fi  /62nATuMKuaLhd5VHKumHOrJnCZa.jpg  \n",
       "4            Action|Sci-Fi|Thriller  /p64TtbZGCElxQHpAMWmDHkWJlH2.jpg  "
      ]
     },
     "execution_count": 18,
     "metadata": {},
     "output_type": "execute_result"
    }
   ],
   "source": [
    "movies_rec = get_movies(movies_ids, movies_table)\n",
    "movies_rec"
   ]
  },
  {
   "cell_type": "code",
   "execution_count": 19,
   "metadata": {},
   "outputs": [
    {
     "data": {
      "text/html": [
       "<p><img style='width: 120px; margin: 0px;                   float: left; border: 1px solid black;' src='http://image.tmdb.org/t/p/w185//7VKpj4Xl3hTzgAS3xpVuOyqNnSv.jpg' /><img style='width: 120px; margin: 0px;                   float: left; border: 1px solid black;' src='http://image.tmdb.org/t/p/w185//kRP5dGXDhKt7bDpXX4YBa4dRwlL.jpg' /><img style='width: 120px; margin: 0px;                   float: left; border: 1px solid black;' src='http://image.tmdb.org/t/p/w185//2h00HrZs89SL3tXB4nbkiM7BKHs.jpg' /><img style='width: 120px; margin: 0px;                   float: left; border: 1px solid black;' src='http://image.tmdb.org/t/p/w185//62nATuMKuaLhd5VHKumHOrJnCZa.jpg' /><img style='width: 120px; margin: 0px;                   float: left; border: 1px solid black;' src='http://image.tmdb.org/t/p/w185//p64TtbZGCElxQHpAMWmDHkWJlH2.jpg' /></p>"
      ],
      "text/plain": [
       "<IPython.core.display.HTML object>"
      ]
     },
     "metadata": {},
     "output_type": "display_data"
    }
   ],
   "source": [
    "display_posters(movies_rec)"
   ]
  },
  {
   "cell_type": "code",
   "execution_count": 20,
   "metadata": {},
   "outputs": [
    {
     "data": {
      "text/html": [
       "<p><img style='width: 120px; margin: 0px;                   float: left; border: 1px solid black;' src='http://image.tmdb.org/t/p/w185//wmgkFuEr8bHRAgs1HS5U46Rzo0I.jpg' /><img style='width: 120px; margin: 0px;                   float: left; border: 1px solid black;' src='http://image.tmdb.org/t/p/w185//y19uRkAHXOHLeySuBVMqnvVnsrA.jpg' /><img style='width: 120px; margin: 0px;                   float: left; border: 1px solid black;' src='http://image.tmdb.org/t/p/w185//btTdmkgIvOi0FFip1sPuZI2oQG6.jpg' /><img style='width: 120px; margin: 0px;                   float: left; border: 1px solid black;' src='http://image.tmdb.org/t/p/w185//lA9HTy84Bb6ZwNeyoZKobcMdpMc.jpg' /><img style='width: 120px; margin: 0px;                   float: left; border: 1px solid black;' src='http://image.tmdb.org/t/p/w185//96pdw2qcx4g25vZLywNi4XRQVqm.jpg' /><img style='width: 120px; margin: 0px;                   float: left; border: 1px solid black;' src='http://image.tmdb.org/t/p/w185//8NFAQxZud5Kisw1sd9WxfBG54.jpg' /><img style='width: 120px; margin: 0px;                   float: left; border: 1px solid black;' src='http://image.tmdb.org/t/p/w185//5DOwcsvjYzHbQLnWkZPthhFYxaj.jpg' /></p>"
      ],
      "text/plain": [
       "<IPython.core.display.HTML object>"
      ]
     },
     "metadata": {},
     "output_type": "display_data"
    }
   ],
   "source": [
    "movies_ids = recommend_movie_ids(100, model, user_item, users, movies, N=7)\n",
    "movies_rec = get_movies(movies_ids, movies_table)\n",
    "display_posters(movies_rec)"
   ]
  },
  {
   "cell_type": "markdown",
   "metadata": {},
   "source": [
    "## Because You've watched"
   ]
  },
  {
   "cell_type": "markdown",
   "metadata": {
    "collapsed": true
   },
   "source": [
    "Let's implement Netflix latest features. It's about recommending movies based on what you've watched. This is similar to what we already did, but this time, it's more selective. Here's how we will do it: We will choose random 5 movies that a user had watched and for each movie recommend similar movies to it. Finally, we display all of them in a one page layout"
   ]
  },
  {
   "cell_type": "code",
   "execution_count": 21,
   "metadata": {},
   "outputs": [],
   "source": [
    "def similar_items(item_id, movies_table, movies, N=5):\n",
    "    \"\"\"\n",
    "    Input\n",
    "    -----\n",
    "    \n",
    "    item_id: int\n",
    "        MovieID in the movies table\n",
    "    \n",
    "    movies_table: DataFrame\n",
    "        DataFrame with movie ids, movie title and genre\n",
    "        \n",
    "    movies: np.array\n",
    "        Mapping between movieID in the movies_table and id in the item user matrix\n",
    "        \n",
    "    N: int\n",
    "        Number of similar movies to return\n",
    "        \n",
    "    Output\n",
    "    -----\n",
    "    df: DataFrame\n",
    "        DataFrame with selected movie in first row and similar movies for N next rows\n",
    "    \"\"\"\n",
    "    # Get movie user index from the mapping array\n",
    "    user_item_id = movies.index(item_id)\n",
    "    # Get similar movies from the ALS model\n",
    "    similars = model.similar_items(user_item_id, N=N+1)    \n",
    "    # ALS similar_items provides (id, score), we extract a list of ids\n",
    "    l = [item[0] for item in similars[1:]]\n",
    "    # Convert those ids to movieID from the mapping array\n",
    "    ids = [movies[ids] for ids in l]\n",
    "    # Make a dataFrame of the movieIds\n",
    "    ids = pd.DataFrame(ids, columns=['movieId'])\n",
    "    # Add movie title and genres by joining with the movies table\n",
    "    recommendation = pd.merge(ids, movies_table, on='movieId', how='left')\n",
    "    \n",
    "    return recommendation"
   ]
  },
  {
   "cell_type": "code",
   "execution_count": 22,
   "metadata": {},
   "outputs": [],
   "source": [
    "def display_recommendations(df):\n",
    "    \n",
    "    images = ''\n",
    "    for ref in df.poster_path:\n",
    "            if ref != '':\n",
    "                link = 'http://image.tmdb.org/t/p/w185/' + ref\n",
    "                images += \"<img style='width: 120px; margin: 0px; \\\n",
    "                  float: left; border: 1px solid black;' src='%s' />\" \\\n",
    "              % link\n",
    "    display(HTML(images))"
   ]
  },
  {
   "cell_type": "code",
   "execution_count": 23,
   "metadata": {},
   "outputs": [],
   "source": [
    "def similar_and_display(item_id, movies_table, movies, N=5):\n",
    "    \n",
    "    df = similar_items(item_id, movies_table, movies, N=N)\n",
    "    \n",
    "    df.dropna(inplace=True)\n",
    "    \n",
    "    display_recommendations(df)"
   ]
  },
  {
   "cell_type": "code",
   "execution_count": 24,
   "metadata": {},
   "outputs": [
    {
     "data": {
      "text/html": [
       "<div>\n",
       "<style scoped>\n",
       "    .dataframe tbody tr th:only-of-type {\n",
       "        vertical-align: middle;\n",
       "    }\n",
       "\n",
       "    .dataframe tbody tr th {\n",
       "        vertical-align: top;\n",
       "    }\n",
       "\n",
       "    .dataframe thead th {\n",
       "        text-align: right;\n",
       "    }\n",
       "</style>\n",
       "<table border=\"1\" class=\"dataframe\">\n",
       "  <thead>\n",
       "    <tr style=\"text-align: right;\">\n",
       "      <th></th>\n",
       "      <th>movieId</th>\n",
       "      <th>title</th>\n",
       "      <th>genres</th>\n",
       "      <th>poster_path</th>\n",
       "    </tr>\n",
       "  </thead>\n",
       "  <tbody>\n",
       "    <tr>\n",
       "      <th>0</th>\n",
       "      <td>31</td>\n",
       "      <td>Dangerous Minds (1995)</td>\n",
       "      <td>Drama</td>\n",
       "      <td>/y5Jee3QmYOlpqfaPPbfvtdVc5wj.jpg</td>\n",
       "    </tr>\n",
       "    <tr>\n",
       "      <th>1</th>\n",
       "      <td>1029</td>\n",
       "      <td>Dumbo (1941)</td>\n",
       "      <td>Animation|Children|Drama|Musical</td>\n",
       "      <td>/r5IqhwZ61OuKlsyDwvXWyWQZK30.jpg</td>\n",
       "    </tr>\n",
       "    <tr>\n",
       "      <th>2</th>\n",
       "      <td>1061</td>\n",
       "      <td>Sleepers (1996)</td>\n",
       "      <td>Thriller</td>\n",
       "      <td>/cDqEv4Fw4JZh2zCfecqw3z09L8z.jpg</td>\n",
       "    </tr>\n",
       "    <tr>\n",
       "      <th>3</th>\n",
       "      <td>1129</td>\n",
       "      <td>Escape from New York (1981)</td>\n",
       "      <td>Action|Adventure|Sci-Fi|Thriller</td>\n",
       "      <td>/z1KTbKJh7vSTTXllxxE4DWG63rT.jpg</td>\n",
       "    </tr>\n",
       "    <tr>\n",
       "      <th>4</th>\n",
       "      <td>1172</td>\n",
       "      <td>Cinema Paradiso (Nuovo cinema Paradiso) (1989)</td>\n",
       "      <td>Drama</td>\n",
       "      <td>/xKAweeF2ZPMNn6ce4GclSbr59Pv.jpg</td>\n",
       "    </tr>\n",
       "    <tr>\n",
       "      <th>5</th>\n",
       "      <td>1263</td>\n",
       "      <td>Deer Hunter, The (1978)</td>\n",
       "      <td>Drama|War</td>\n",
       "      <td>/slNJESItHPqp1CENEJQUPw8d7WE.jpg</td>\n",
       "    </tr>\n",
       "    <tr>\n",
       "      <th>6</th>\n",
       "      <td>1287</td>\n",
       "      <td>Ben-Hur (1959)</td>\n",
       "      <td>Action|Adventure|Drama</td>\n",
       "      <td>/syPMBvvZsADTTRu3UKuxO1Wflq.jpg</td>\n",
       "    </tr>\n",
       "    <tr>\n",
       "      <th>7</th>\n",
       "      <td>1293</td>\n",
       "      <td>Gandhi (1982)</td>\n",
       "      <td>Drama</td>\n",
       "      <td>/2z9A4FSu1YySrhhcuqkdMIXpgyN.jpg</td>\n",
       "    </tr>\n",
       "    <tr>\n",
       "      <th>8</th>\n",
       "      <td>1339</td>\n",
       "      <td>Dracula (Bram Stoker's Dracula) (1992)</td>\n",
       "      <td>Fantasy|Horror|Romance|Thriller</td>\n",
       "      <td>/ioHxm3D3JdSXR61LRhcVb8KdZOz.jpg</td>\n",
       "    </tr>\n",
       "    <tr>\n",
       "      <th>9</th>\n",
       "      <td>1343</td>\n",
       "      <td>Cape Fear (1991)</td>\n",
       "      <td>Thriller</td>\n",
       "      <td>/4KvrvcqckdupXXO2YnANtyG7QLK.jpg</td>\n",
       "    </tr>\n",
       "    <tr>\n",
       "      <th>10</th>\n",
       "      <td>1371</td>\n",
       "      <td>Star Trek: The Motion Picture (1979)</td>\n",
       "      <td>Adventure|Sci-Fi</td>\n",
       "      <td>/ys5Sgpc27mVo3H5zYLPV9LWDq5.jpg</td>\n",
       "    </tr>\n",
       "    <tr>\n",
       "      <th>11</th>\n",
       "      <td>1405</td>\n",
       "      <td>Beavis and Butt-Head Do America (1996)</td>\n",
       "      <td>Adventure|Animation|Comedy|Crime</td>\n",
       "      <td>/2pW1iACRzmb9OOIhzflYYt3S3s9.jpg</td>\n",
       "    </tr>\n",
       "    <tr>\n",
       "      <th>12</th>\n",
       "      <td>1953</td>\n",
       "      <td>French Connection, The (1971)</td>\n",
       "      <td>Action|Crime|Thriller</td>\n",
       "      <td>/xwDi4wF0I1L5bSW08Y8GocDGjJP.jpg</td>\n",
       "    </tr>\n",
       "    <tr>\n",
       "      <th>13</th>\n",
       "      <td>2105</td>\n",
       "      <td>Tron (1982)</td>\n",
       "      <td>Action|Adventure|Sci-Fi</td>\n",
       "      <td>/cTF8lpXvAwT1SLH9kVFZZl0AO0D.jpg</td>\n",
       "    </tr>\n",
       "    <tr>\n",
       "      <th>14</th>\n",
       "      <td>2150</td>\n",
       "      <td>Gods Must Be Crazy, The (1980)</td>\n",
       "      <td>Adventure|Comedy</td>\n",
       "      <td>/yvD2BWOEM5N4S4f6Yj8IVVjoKQO.jpg</td>\n",
       "    </tr>\n",
       "    <tr>\n",
       "      <th>15</th>\n",
       "      <td>2193</td>\n",
       "      <td>Willow (1988)</td>\n",
       "      <td>Action|Adventure|Fantasy</td>\n",
       "      <td>/uxB76XmAMEFeeaRqsPAVumn6rTE.jpg</td>\n",
       "    </tr>\n",
       "    <tr>\n",
       "      <th>16</th>\n",
       "      <td>2294</td>\n",
       "      <td>Antz (1998)</td>\n",
       "      <td>Adventure|Animation|Children|Comedy|Fantasy</td>\n",
       "      <td>/3biVcPu5hrfKUMC73sTFq17dmmS.jpg</td>\n",
       "    </tr>\n",
       "    <tr>\n",
       "      <th>17</th>\n",
       "      <td>2455</td>\n",
       "      <td>Fly, The (1986)</td>\n",
       "      <td>Drama|Horror|Sci-Fi|Thriller</td>\n",
       "      <td>/q49tjSe3O152t9QVwaradePGu7W.jpg</td>\n",
       "    </tr>\n",
       "    <tr>\n",
       "      <th>18</th>\n",
       "      <td>2968</td>\n",
       "      <td>Time Bandits (1981)</td>\n",
       "      <td>Adventure|Comedy|Fantasy|Sci-Fi</td>\n",
       "      <td>/4VZtpwdhHQSa4LUkvujyGAHb1hG.jpg</td>\n",
       "    </tr>\n",
       "    <tr>\n",
       "      <th>19</th>\n",
       "      <td>3671</td>\n",
       "      <td>Blazing Saddles (1974)</td>\n",
       "      <td>Comedy|Western</td>\n",
       "      <td>/rT8uRG8CVONiQdgdFRafVtjSdb4.jpg</td>\n",
       "    </tr>\n",
       "  </tbody>\n",
       "</table>\n",
       "</div>"
      ],
      "text/plain": [
       "    movieId                                           title  \\\n",
       "0        31                          Dangerous Minds (1995)   \n",
       "1      1029                                    Dumbo (1941)   \n",
       "2      1061                                 Sleepers (1996)   \n",
       "3      1129                     Escape from New York (1981)   \n",
       "4      1172  Cinema Paradiso (Nuovo cinema Paradiso) (1989)   \n",
       "5      1263                         Deer Hunter, The (1978)   \n",
       "6      1287                                  Ben-Hur (1959)   \n",
       "7      1293                                   Gandhi (1982)   \n",
       "8      1339          Dracula (Bram Stoker's Dracula) (1992)   \n",
       "9      1343                                Cape Fear (1991)   \n",
       "10     1371            Star Trek: The Motion Picture (1979)   \n",
       "11     1405          Beavis and Butt-Head Do America (1996)   \n",
       "12     1953                   French Connection, The (1971)   \n",
       "13     2105                                     Tron (1982)   \n",
       "14     2150                  Gods Must Be Crazy, The (1980)   \n",
       "15     2193                                   Willow (1988)   \n",
       "16     2294                                     Antz (1998)   \n",
       "17     2455                                 Fly, The (1986)   \n",
       "18     2968                             Time Bandits (1981)   \n",
       "19     3671                          Blazing Saddles (1974)   \n",
       "\n",
       "                                         genres  \\\n",
       "0                                         Drama   \n",
       "1              Animation|Children|Drama|Musical   \n",
       "2                                      Thriller   \n",
       "3              Action|Adventure|Sci-Fi|Thriller   \n",
       "4                                         Drama   \n",
       "5                                     Drama|War   \n",
       "6                        Action|Adventure|Drama   \n",
       "7                                         Drama   \n",
       "8               Fantasy|Horror|Romance|Thriller   \n",
       "9                                      Thriller   \n",
       "10                             Adventure|Sci-Fi   \n",
       "11             Adventure|Animation|Comedy|Crime   \n",
       "12                        Action|Crime|Thriller   \n",
       "13                      Action|Adventure|Sci-Fi   \n",
       "14                             Adventure|Comedy   \n",
       "15                     Action|Adventure|Fantasy   \n",
       "16  Adventure|Animation|Children|Comedy|Fantasy   \n",
       "17                 Drama|Horror|Sci-Fi|Thriller   \n",
       "18              Adventure|Comedy|Fantasy|Sci-Fi   \n",
       "19                               Comedy|Western   \n",
       "\n",
       "                         poster_path  \n",
       "0   /y5Jee3QmYOlpqfaPPbfvtdVc5wj.jpg  \n",
       "1   /r5IqhwZ61OuKlsyDwvXWyWQZK30.jpg  \n",
       "2   /cDqEv4Fw4JZh2zCfecqw3z09L8z.jpg  \n",
       "3   /z1KTbKJh7vSTTXllxxE4DWG63rT.jpg  \n",
       "4   /xKAweeF2ZPMNn6ce4GclSbr59Pv.jpg  \n",
       "5   /slNJESItHPqp1CENEJQUPw8d7WE.jpg  \n",
       "6    /syPMBvvZsADTTRu3UKuxO1Wflq.jpg  \n",
       "7   /2z9A4FSu1YySrhhcuqkdMIXpgyN.jpg  \n",
       "8   /ioHxm3D3JdSXR61LRhcVb8KdZOz.jpg  \n",
       "9   /4KvrvcqckdupXXO2YnANtyG7QLK.jpg  \n",
       "10   /ys5Sgpc27mVo3H5zYLPV9LWDq5.jpg  \n",
       "11  /2pW1iACRzmb9OOIhzflYYt3S3s9.jpg  \n",
       "12  /xwDi4wF0I1L5bSW08Y8GocDGjJP.jpg  \n",
       "13  /cTF8lpXvAwT1SLH9kVFZZl0AO0D.jpg  \n",
       "14  /yvD2BWOEM5N4S4f6Yj8IVVjoKQO.jpg  \n",
       "15  /uxB76XmAMEFeeaRqsPAVumn6rTE.jpg  \n",
       "16  /3biVcPu5hrfKUMC73sTFq17dmmS.jpg  \n",
       "17  /q49tjSe3O152t9QVwaradePGu7W.jpg  \n",
       "18  /4VZtpwdhHQSa4LUkvujyGAHb1hG.jpg  \n",
       "19  /rT8uRG8CVONiQdgdFRafVtjSdb4.jpg  "
      ]
     },
     "execution_count": 24,
     "metadata": {},
     "output_type": "execute_result"
    }
   ],
   "source": [
    "movieTableIDs = get_rated_movies_ids(1, user_item, users, movies)\n",
    "df = get_movies(movieTableIDs, movies_table)\n",
    "df"
   ]
  },
  {
   "cell_type": "code",
   "execution_count": 25,
   "metadata": {},
   "outputs": [],
   "source": [
    "def because_you_watched(user, user_item, users, movies, k=5, N=5):\n",
    "    \"\"\"\n",
    "    Input\n",
    "    -----\n",
    "    \n",
    "    user: int\n",
    "        User ID\n",
    "        \n",
    "    user_item: scipy sparse matrix\n",
    "        User item interaction matrix\n",
    "        \n",
    "    users: np.array\n",
    "        Mapping array between User ID and user item index\n",
    "        \n",
    "    movies: np.array\n",
    "        Mapping array between Movie ID and user item index\n",
    "        \n",
    "    k: int\n",
    "        Number of recommendations per movie\n",
    "        \n",
    "    N: int\n",
    "        Number of movies already watched chosen\n",
    "    \n",
    "    \"\"\"\n",
    "    \n",
    "    movieTableIDs = get_rated_movies_ids(user, user_item, users, movies)\n",
    "    df = get_movies(movieTableIDs, movies_table)\n",
    "    \n",
    "    movieIDs = random.sample(df.movieId, N)\n",
    "    \n",
    "    for movieID in movieIDs:\n",
    "        title = df[df.movieId == movieID].iloc[0].title\n",
    "        print(\"Because you've watched \", title)\n",
    "        similar_and_display(movieID, movies_table, movies, k)"
   ]
  },
  {
   "cell_type": "code",
   "execution_count": 26,
   "metadata": {
    "scrolled": false
   },
   "outputs": [
    {
     "name": "stdout",
     "output_type": "stream",
     "text": [
      "(\"Because you've watched \", 'Definitely, Maybe (2008)')\n"
     ]
    },
    {
     "data": {
      "text/html": [
       "<img style='width: 120px; margin: 0px;                   float: left; border: 1px solid black;' src='http://image.tmdb.org/t/p/w185//pRzEyrMSyvpHf92EhsVSg9Yr81t.jpg' /><img style='width: 120px; margin: 0px;                   float: left; border: 1px solid black;' src='http://image.tmdb.org/t/p/w185//esfuYEvv7WrLvXNkCg7MCufEEdH.jpg' /><img style='width: 120px; margin: 0px;                   float: left; border: 1px solid black;' src='http://image.tmdb.org/t/p/w185//4jU64i4kAEtQUlsYsQPAdfpI7aP.jpg' /><img style='width: 120px; margin: 0px;                   float: left; border: 1px solid black;' src='http://image.tmdb.org/t/p/w185//kNMUKWshK6qVA9fXGBRJaUSRNoz.jpg' /><img style='width: 120px; margin: 0px;                   float: left; border: 1px solid black;' src='http://image.tmdb.org/t/p/w185//cyih5NtdEXF0uSGWJFWgiIEQknb.jpg' />"
      ],
      "text/plain": [
       "<IPython.core.display.HTML object>"
      ]
     },
     "metadata": {},
     "output_type": "display_data"
    },
    {
     "name": "stdout",
     "output_type": "stream",
     "text": [
      "(\"Because you've watched \", 'Pocahontas (1995)')\n"
     ]
    },
    {
     "data": {
      "text/html": [
       "<img style='width: 120px; margin: 0px;                   float: left; border: 1px solid black;' src='http://image.tmdb.org/t/p/w185//cdf4J7tDhSPAghWWgx9EnwQWBfF.jpg' /><img style='width: 120px; margin: 0px;                   float: left; border: 1px solid black;' src='http://image.tmdb.org/t/p/w185//a7LslH4Ofdvi1oam9Bbhb2UyMR2.jpg' /><img style='width: 120px; margin: 0px;                   float: left; border: 1px solid black;' src='http://image.tmdb.org/t/p/w185//7HI8FD4glaWdYqCF0kReT1N56Bi.jpg' /><img style='width: 120px; margin: 0px;                   float: left; border: 1px solid black;' src='http://image.tmdb.org/t/p/w185//9gJa2B6M8jt85aDkb0MF98MLZ9T.jpg' /><img style='width: 120px; margin: 0px;                   float: left; border: 1px solid black;' src='http://image.tmdb.org/t/p/w185//wbVGRBYPRRahIZNGXY9TfHDUSc2.jpg' />"
      ],
      "text/plain": [
       "<IPython.core.display.HTML object>"
      ]
     },
     "metadata": {},
     "output_type": "display_data"
    },
    {
     "name": "stdout",
     "output_type": "stream",
     "text": [
      "(\"Because you've watched \", 'Simpsons Movie, The (2007)')\n"
     ]
    },
    {
     "data": {
      "text/html": [
       "<img style='width: 120px; margin: 0px;                   float: left; border: 1px solid black;' src='http://image.tmdb.org/t/p/w185//5vMEXtz1DXgxFsv8pgFFGuOlI8V.jpg' /><img style='width: 120px; margin: 0px;                   float: left; border: 1px solid black;' src='http://image.tmdb.org/t/p/w185//hafNeozn8Q4K6enP2ux5MTMCHjH.jpg' /><img style='width: 120px; margin: 0px;                   float: left; border: 1px solid black;' src='http://image.tmdb.org/t/p/w185//dqs5BmwSULtB28Kls3IB6khTQwp.jpg' /><img style='width: 120px; margin: 0px;                   float: left; border: 1px solid black;' src='http://image.tmdb.org/t/p/w185//y5TEe8Qbgn91dwqVm9FqE2PEL4Q.jpg' /><img style='width: 120px; margin: 0px;                   float: left; border: 1px solid black;' src='http://image.tmdb.org/t/p/w185//waFr5RVKaQ9dzOt3nQuIVB1FiPu.jpg' />"
      ],
      "text/plain": [
       "<IPython.core.display.HTML object>"
      ]
     },
     "metadata": {},
     "output_type": "display_data"
    },
    {
     "name": "stdout",
     "output_type": "stream",
     "text": [
      "(\"Because you've watched \", 'Catch Me If You Can (2002)')\n"
     ]
    },
    {
     "data": {
      "text/html": [
       "<img style='width: 120px; margin: 0px;                   float: left; border: 1px solid black;' src='http://image.tmdb.org/t/p/w185//4SFqHDZ1NvWdysucWbgnYlobdxC.jpg' /><img style='width: 120px; margin: 0px;                   float: left; border: 1px solid black;' src='http://image.tmdb.org/t/p/w185//o0h76DVXvk5OKjmNez5YY0GODC2.jpg' /><img style='width: 120px; margin: 0px;                   float: left; border: 1px solid black;' src='http://image.tmdb.org/t/p/w185//bXQIL36VQdzJ69lcjQR1WQzJqQR.jpg' /><img style='width: 120px; margin: 0px;                   float: left; border: 1px solid black;' src='http://image.tmdb.org/t/p/w185//tkt9xR1kNX5R9rCebASKck44si2.jpg' /><img style='width: 120px; margin: 0px;                   float: left; border: 1px solid black;' src='http://image.tmdb.org/t/p/w185//h3lpltSn7Rj1eYTPQO1lYGdw4Bz.jpg' />"
      ],
      "text/plain": [
       "<IPython.core.display.HTML object>"
      ]
     },
     "metadata": {},
     "output_type": "display_data"
    },
    {
     "name": "stdout",
     "output_type": "stream",
     "text": [
      "(\"Because you've watched \", 'Risky Business (1983)')\n"
     ]
    },
    {
     "data": {
      "text/html": [
       "<img style='width: 120px; margin: 0px;                   float: left; border: 1px solid black;' src='http://image.tmdb.org/t/p/w185//wZwXLiR1cisTXaJiuBLvgkS5HWw.jpg' /><img style='width: 120px; margin: 0px;                   float: left; border: 1px solid black;' src='http://image.tmdb.org/t/p/w185//x93W5WrOOr3PCia1cANnWmAtUwQ.jpg' /><img style='width: 120px; margin: 0px;                   float: left; border: 1px solid black;' src='http://image.tmdb.org/t/p/w185//rzTrRQg5ek47Yl0Vfenc69r9gOd.jpg' /><img style='width: 120px; margin: 0px;                   float: left; border: 1px solid black;' src='http://image.tmdb.org/t/p/w185//awlcy51BoQxqxI6M6hqaQyUeEDj.jpg' /><img style='width: 120px; margin: 0px;                   float: left; border: 1px solid black;' src='http://image.tmdb.org/t/p/w185//yvD2BWOEM5N4S4f6Yj8IVVjoKQO.jpg' />"
      ],
      "text/plain": [
       "<IPython.core.display.HTML object>"
      ]
     },
     "metadata": {},
     "output_type": "display_data"
    }
   ],
   "source": [
    "because_you_watched(500, user_item, users, movies, k=5, N=5)"
   ]
  },
  {
   "cell_type": "markdown",
   "metadata": {
    "collapsed": true
   },
   "source": [
    "## Trending movies"
   ]
  },
  {
   "cell_type": "markdown",
   "metadata": {},
   "source": [
    "Let's also implement trending movies. In our context, trending movies are movies that been rated the most by users"
   ]
  },
  {
   "cell_type": "code",
   "execution_count": 27,
   "metadata": {},
   "outputs": [],
   "source": [
    "def get_trending(user_item, movies, movies_table, N=5):\n",
    "    \"\"\"\n",
    "    Input\n",
    "    -----\n",
    "    \n",
    "    user_item: scipy sparse matrix\n",
    "        User item interaction matrix to use to extract popular movies\n",
    "        \n",
    "    movies: np.array\n",
    "        Mapping array between movieId and ID in the user_item matrix\n",
    "        \n",
    "    movies_table: pd.DataFrame\n",
    "        DataFrame for movies information\n",
    "        \n",
    "    N: int\n",
    "        Top N most popular movies to return\n",
    "    \n",
    "    \"\"\"\n",
    "    \n",
    "    binary = user_item.copy()\n",
    "    binary[binary !=0] = 1\n",
    "    \n",
    "    populars = np.array(binary.sum(axis=0)).reshape(-1)\n",
    "    \n",
    "    movieIDs = populars.argsort()[::-1][:N]\n",
    "    \n",
    "    movies_rec = get_movies(movieIDs, movies_table)\n",
    "    \n",
    "    movies_rec.dropna(inplace=True)\n",
    "    \n",
    "    print(\"Trending Now\")\n",
    "    \n",
    "    display_posters(movies_rec)"
   ]
  },
  {
   "cell_type": "code",
   "execution_count": 28,
   "metadata": {},
   "outputs": [
    {
     "name": "stdout",
     "output_type": "stream",
     "text": [
      "Trending Now\n"
     ]
    },
    {
     "data": {
      "text/html": [
       "<p><img style='width: 120px; margin: 0px;                   float: left; border: 1px solid black;' src='http://image.tmdb.org/t/p/w185//97EKLaslQ4gzkvALtqGCDOmsGHk.jpg' /><img style='width: 120px; margin: 0px;                   float: left; border: 1px solid black;' src='http://image.tmdb.org/t/p/w185//wnUuYc9XnWrTTAGz8YjjULA3Zmr.jpg' /><img style='width: 120px; margin: 0px;                   float: left; border: 1px solid black;' src='http://image.tmdb.org/t/p/w185//j9k3UTx7OZ0xoCws1oACYQZFF5N.jpg' /><img style='width: 120px; margin: 0px;                   float: left; border: 1px solid black;' src='http://image.tmdb.org/t/p/w185//Oesh4pN5J2ing4flkgkiVdxILP.jpg' /><img style='width: 120px; margin: 0px;                   float: left; border: 1px solid black;' src='http://image.tmdb.org/t/p/w185//urPxxjylNUHmoNcGkMgHStMTxhF.jpg' /></p>"
      ],
      "text/plain": [
       "<IPython.core.display.HTML object>"
      ]
     },
     "metadata": {},
     "output_type": "display_data"
    }
   ],
   "source": [
    "get_trending(user_item, movies, movies_table, N=6)"
   ]
  },
  {
   "cell_type": "code",
   "execution_count": 29,
   "metadata": {},
   "outputs": [],
   "source": [
    "def my_timeline(user, user_item, users, movies, movies_table, k=5, N=5):\n",
    "    \n",
    "    get_trending(user_item, movies, movies_table, N=N)\n",
    "    \n",
    "    because_you_watched(user, user_item, users, movies, k=k, N=N)"
   ]
  },
  {
   "cell_type": "code",
   "execution_count": 30,
   "metadata": {
    "scrolled": false
   },
   "outputs": [
    {
     "name": "stdout",
     "output_type": "stream",
     "text": [
      "Trending Now\n"
     ]
    },
    {
     "data": {
      "text/html": [
       "<p><img style='width: 120px; margin: 0px;                   float: left; border: 1px solid black;' src='http://image.tmdb.org/t/p/w185//97EKLaslQ4gzkvALtqGCDOmsGHk.jpg' /><img style='width: 120px; margin: 0px;                   float: left; border: 1px solid black;' src='http://image.tmdb.org/t/p/w185//wnUuYc9XnWrTTAGz8YjjULA3Zmr.jpg' /><img style='width: 120px; margin: 0px;                   float: left; border: 1px solid black;' src='http://image.tmdb.org/t/p/w185//j9k3UTx7OZ0xoCws1oACYQZFF5N.jpg' /><img style='width: 120px; margin: 0px;                   float: left; border: 1px solid black;' src='http://image.tmdb.org/t/p/w185//Oesh4pN5J2ing4flkgkiVdxILP.jpg' /></p>"
      ],
      "text/plain": [
       "<IPython.core.display.HTML object>"
      ]
     },
     "metadata": {},
     "output_type": "display_data"
    },
    {
     "name": "stdout",
     "output_type": "stream",
     "text": [
      "(\"Because you've watched \", 'Love Actually (2003)')\n"
     ]
    },
    {
     "data": {
      "text/html": [
       "<img style='width: 120px; margin: 0px;                   float: left; border: 1px solid black;' src='http://image.tmdb.org/t/p/w185//18pCc2XZ5MO7wsywOYEbhoeuxNw.jpg' /><img style='width: 120px; margin: 0px;                   float: left; border: 1px solid black;' src='http://image.tmdb.org/t/p/w185//f6z20eozbI7IvvFQfhQzuXoyo7Y.jpg' /><img style='width: 120px; margin: 0px;                   float: left; border: 1px solid black;' src='http://image.tmdb.org/t/p/w185//aaLAIPw9vJSVyQLy390TJrntEwF.jpg' /><img style='width: 120px; margin: 0px;                   float: left; border: 1px solid black;' src='http://image.tmdb.org/t/p/w185//7GtzgK56NeIDzA6DksPihYVqTFm.jpg' /><img style='width: 120px; margin: 0px;                   float: left; border: 1px solid black;' src='http://image.tmdb.org/t/p/w185//xhuQz2yKPlWvMvvnf2u9RVkAQx6.jpg' />"
      ],
      "text/plain": [
       "<IPython.core.display.HTML object>"
      ]
     },
     "metadata": {},
     "output_type": "display_data"
    },
    {
     "name": "stdout",
     "output_type": "stream",
     "text": [
      "(\"Because you've watched \", \"What's Eating Gilbert Grape (1993)\")\n"
     ]
    },
    {
     "data": {
      "text/html": [
       "<img style='width: 120px; margin: 0px;                   float: left; border: 1px solid black;' src='http://image.tmdb.org/t/p/w185//qoZShHm8QTrHAR80LypwI0SYp8I.jpg' /><img style='width: 120px; margin: 0px;                   float: left; border: 1px solid black;' src='http://image.tmdb.org/t/p/w185//g5yIxuzZ3LFRxDa8SBQybJJhXng.jpg' /><img style='width: 120px; margin: 0px;                   float: left; border: 1px solid black;' src='http://image.tmdb.org/t/p/w185//gN6X3fwPya8pLffk9OEWV3DqBnE.jpg' /><img style='width: 120px; margin: 0px;                   float: left; border: 1px solid black;' src='http://image.tmdb.org/t/p/w185//md9kMKnLG8LG4pMDM98gy5x4K5L.jpg' /><img style='width: 120px; margin: 0px;                   float: left; border: 1px solid black;' src='http://image.tmdb.org/t/p/w185//3nU4id8Ul2pEGVfIWl1r9wSzBeC.jpg' />"
      ],
      "text/plain": [
       "<IPython.core.display.HTML object>"
      ]
     },
     "metadata": {},
     "output_type": "display_data"
    },
    {
     "name": "stdout",
     "output_type": "stream",
     "text": [
      "(\"Because you've watched \", 'Jungle Book, The (1967)')\n"
     ]
    },
    {
     "data": {
      "text/html": [
       "<img style='width: 120px; margin: 0px;                   float: left; border: 1px solid black;' src='http://image.tmdb.org/t/p/w185//aWLgUzpkVFk8OVcg5jJte5I0Ces.jpg' /><img style='width: 120px; margin: 0px;                   float: left; border: 1px solid black;' src='http://image.tmdb.org/t/p/w185//AqQpqEn33UYExlAoWA02Hizb2lc.jpg' /><img style='width: 120px; margin: 0px;                   float: left; border: 1px solid black;' src='http://image.tmdb.org/t/p/w185//laABfcpEKweQsaZwCWzmGNUpij9.jpg' /><img style='width: 120px; margin: 0px;                   float: left; border: 1px solid black;' src='http://image.tmdb.org/t/p/w185//vo5j5OZIdnfMIZSkVfSvh8cJUU.jpg' /><img style='width: 120px; margin: 0px;                   float: left; border: 1px solid black;' src='http://image.tmdb.org/t/p/w185//yMdpnj5fh4NP39B3YrXyLjpZUBt.jpg' />"
      ],
      "text/plain": [
       "<IPython.core.display.HTML object>"
      ]
     },
     "metadata": {},
     "output_type": "display_data"
    },
    {
     "name": "stdout",
     "output_type": "stream",
     "text": [
      "(\"Because you've watched \", 'Matrix, The (1999)')\n"
     ]
    },
    {
     "data": {
      "text/html": [
       "<img style='width: 120px; margin: 0px;                   float: left; border: 1px solid black;' src='http://image.tmdb.org/t/p/w185//miDoEMlYDJhOCvxlzI0wZqBs9Yt.jpg' /><img style='width: 120px; margin: 0px;                   float: left; border: 1px solid black;' src='http://image.tmdb.org/t/p/w185//pTpxQB1N0waaSc3OSn0e9oc8kx9.jpg' /><img style='width: 120px; margin: 0px;                   float: left; border: 1px solid black;' src='http://image.tmdb.org/t/p/w185//44sKJOGP3fTm4QXBcIuqu0RkdP7.jpg' /><img style='width: 120px; margin: 0px;                   float: left; border: 1px solid black;' src='http://image.tmdb.org/t/p/w185//6u1fYtxG5eqjhtCPDx04pJphQRW.jpg' /><img style='width: 120px; margin: 0px;                   float: left; border: 1px solid black;' src='http://image.tmdb.org/t/p/w185//rPdtLWNsZmAtoZl9PK7S2wE3qiS.jpg' />"
      ],
      "text/plain": [
       "<IPython.core.display.HTML object>"
      ]
     },
     "metadata": {},
     "output_type": "display_data"
    },
    {
     "name": "stdout",
     "output_type": "stream",
     "text": [
      "(\"Because you've watched \", 'Chicago (2002)')\n"
     ]
    },
    {
     "data": {
      "text/html": [
       "<img style='width: 120px; margin: 0px;                   float: left; border: 1px solid black;' src='http://image.tmdb.org/t/p/w185//1kz4Q2v7cxwNnTfkjrujzWAVCne.jpg' /><img style='width: 120px; margin: 0px;                   float: left; border: 1px solid black;' src='http://image.tmdb.org/t/p/w185//f6z20eozbI7IvvFQfhQzuXoyo7Y.jpg' /><img style='width: 120px; margin: 0px;                   float: left; border: 1px solid black;' src='http://image.tmdb.org/t/p/w185//kfX8Ctin3fSZbdnjh6CXSNZUOVP.jpg' /><img style='width: 120px; margin: 0px;                   float: left; border: 1px solid black;' src='http://image.tmdb.org/t/p/w185//qVKYduwLJ5HjbeVVYqYPSAhWQqh.jpg' /><img style='width: 120px; margin: 0px;                   float: left; border: 1px solid black;' src='http://image.tmdb.org/t/p/w185//aaLAIPw9vJSVyQLy390TJrntEwF.jpg' />"
      ],
      "text/plain": [
       "<IPython.core.display.HTML object>"
      ]
     },
     "metadata": {},
     "output_type": "display_data"
    }
   ],
   "source": [
    "my_timeline(500, user_item, users, movies, movies_table, k=5, N=5)"
   ]
  },
  {
   "cell_type": "markdown",
   "metadata": {},
   "source": [
    "## Export trained models to be used in production"
   ]
  },
  {
   "cell_type": "markdown",
   "metadata": {},
   "source": [
    "At this point, we want to get our model into production. We want to create a web service where a user will provide a userid to the service and the service will return all of the recommendations including the trending and the \"because you've watched\". We first export the trained model and the used data for use in the web service."
   ]
  },
  {
   "cell_type": "code",
   "execution_count": 31,
   "metadata": {},
   "outputs": [],
   "source": [
    "import scipy.sparse\n",
    "scipy.sparse.save_npz('model/user_item.npz', user_item)"
   ]
  },
  {
   "cell_type": "code",
   "execution_count": 32,
   "metadata": {},
   "outputs": [],
   "source": [
    "np.save('model/movies.npy', movies)\n",
    "np.save('model/users.npy', users)\n",
    "movies_table.to_csv('model/movies_table.csv', index=False)"
   ]
  },
  {
   "cell_type": "code",
   "execution_count": 33,
   "metadata": {},
   "outputs": [
    {
     "data": {
      "text/plain": [
       "['model/model.pkl']"
      ]
     },
     "execution_count": 33,
     "metadata": {},
     "output_type": "execute_result"
    }
   ],
   "source": [
    "from sklearn.externals import joblib\n",
    "joblib.dump(model, 'model/model.pkl') "
   ]
  }
 ],
 "metadata": {
  "kernelspec": {
   "display_name": "Python 2",
   "language": "python",
   "name": "python2"
  },
  "language_info": {
   "codemirror_mode": {
    "name": "ipython",
    "version": 2
   },
   "file_extension": ".py",
   "mimetype": "text/x-python",
   "name": "python",
   "nbconvert_exporter": "python",
   "pygments_lexer": "ipython2",
   "version": "2.7.14"
  }
 },
 "nbformat": 4,
 "nbformat_minor": 2
}
